{
 "cells": [
  {
   "cell_type": "code",
   "execution_count": 1,
   "id": "d8fae07d",
   "metadata": {},
   "outputs": [],
   "source": [
    "%load_ext autoreload\n",
    "%autoreload 2"
   ]
  },
  {
   "cell_type": "code",
   "execution_count": 2,
   "id": "0ddfe598",
   "metadata": {},
   "outputs": [
    {
     "name": "stderr",
     "output_type": "stream",
     "text": [
      "/Users/deyanmihaylov/Documents/Work/python310/lib/python3.10/site-packages/scipy/__init__.py:146: UserWarning: A NumPy version >=1.16.5 and <1.23.0 is required for this version of SciPy (detected version 1.26.4\n",
      "  warnings.warn(f\"A NumPy version >={np_minversion} and <{np_maxversion}\"\n"
     ]
    }
   ],
   "source": [
    "import numpy as np\n",
    "import numba as nb\n",
    "import scipy.interpolate as spip\n",
    "from time import process_time\n",
    "\n",
    "from interpolate import cubic_spline, CubicSpline\n",
    "from new_interp import spline_numba\n",
    "from cinterpolate import CubicSpline as spline_cython"
   ]
  },
  {
   "cell_type": "code",
   "execution_count": 3,
   "id": "33cf235a",
   "metadata": {},
   "outputs": [],
   "source": [
    "from cinterpolate import method1"
   ]
  },
  {
   "cell_type": "code",
   "execution_count": 20,
   "id": "df3ee3ab",
   "metadata": {},
   "outputs": [],
   "source": [
    "N = 4000\n",
    "X = np.random.uniform(size=N)\n",
    "X.sort()\n",
    "Y = np.random.uniform(size=N)\n",
    "\n",
    "# X = np.array([0., 1., 2., 3., 4.])\n",
    "# Y = np.array([21., 24., 24., 18., 16.])\n",
    "\n",
    "a = np.zeros(N)\n",
    "b = np.zeros(N)\n",
    "c = np.zeros(N)\n",
    "d = np.zeros(N)\n"
   ]
  },
  {
   "cell_type": "code",
   "execution_count": 21,
   "id": "39ce60bc",
   "metadata": {},
   "outputs": [
    {
     "name": "stdout",
     "output_type": "stream",
     "text": [
      "24.5 s ± 1.55 s per loop (mean ± std. dev. of 7 runs, 1 loop each)\n"
     ]
    }
   ],
   "source": [
    "%timeit method1(X, Y, a, b, c, d)\n"
   ]
  },
  {
   "cell_type": "code",
   "execution_count": 7,
   "id": "4e5db36a",
   "metadata": {},
   "outputs": [
    {
     "name": "stdout",
     "output_type": "stream",
     "text": [
      "[ 21.          22.17857143 -15.53571429 110.78571429]\n"
     ]
    }
   ],
   "source": [
    "method1(X, Y, a, b, c, d)\n",
    "\n",
    "print(d)"
   ]
  },
  {
   "cell_type": "code",
   "execution_count": 13,
   "id": "4f5b9507",
   "metadata": {},
   "outputs": [],
   "source": [
    "sp_sp = spip.CubicSpline(X, Y, bc_type=\"natural\")\n",
    "\n",
    "sa, sb, sc, sd = sp_sp.c"
   ]
  },
  {
   "cell_type": "code",
   "execution_count": 17,
   "id": "67167b1e",
   "metadata": {},
   "outputs": [
    {
     "data": {
      "text/plain": [
       "21.127232142857142"
      ]
     },
     "execution_count": 17,
     "metadata": {},
     "output_type": "execute_result"
    }
   ],
   "source": [
    "x = 2.5\n",
    "\n",
    "sa[2] * (x-2)**3 + sb[2] * (x-2)**2 + sc[2] * (x - 2) + sd[2]"
   ]
  },
  {
   "cell_type": "code",
   "execution_count": 6,
   "id": "c93dc9f9",
   "metadata": {},
   "outputs": [
    {
     "data": {
      "text/plain": [
       "21.127232142857164"
      ]
     },
     "execution_count": 6,
     "metadata": {},
     "output_type": "execute_result"
    }
   ],
   "source": [
    "x = 2.5\n",
    "\n",
    "a[2] * x**3 + b[2] * x**2 + c[2] * x + d[2]"
   ]
  },
  {
   "cell_type": "code",
   "execution_count": 3,
   "id": "a5f79873",
   "metadata": {},
   "outputs": [],
   "source": [
    "def max_rel_diff(x, y):\n",
    "    return np.max(np.abs((x - y) / x))\n",
    "\n",
    "def max_abs_diff(x, y):\n",
    "    return np.max(np.abs(x - y))"
   ]
  },
  {
   "cell_type": "code",
   "execution_count": 18,
   "id": "d864cb74",
   "metadata": {},
   "outputs": [],
   "source": [
    "N = 4\n",
    "X = np.random.uniform(size=N)\n",
    "X.sort()\n",
    "Y = np.random.uniform(size=N)\n",
    "\n",
    "scipy_spline = spip.CubicSpline(X, Y, bc_type=\"natural\")\n",
    "numba_spline_old = CubicSpline(X, Y)\n",
    "# a, b, c, d, numba_spline_new = spline_numba(X, Y)\n",
    "cython_spline = spline_cython(X, Y)\n",
    "\n",
    "# %timeit scipy_spline = spip.CubicSpline(X, Y, bc_type=\"natural\")\n",
    "# %timeit numba_spline_old = CubicSpline(X, Y)\n",
    "# %timeit numba_spline_new = spline_numba(X, Y)\n",
    "# %timeit spline_cython(X, Y)\n",
    "\n",
    "scipy_d, scipy_c, scipy_b, scipy_a = scipy_spline.c\n",
    "\n",
    "numba_a = numba_spline_old.a\n",
    "numba_b = numba_spline_old.b\n",
    "numba_c = numba_spline_old.c\n",
    "numba_d = numba_spline_old.d\n",
    "\n",
    "cython_a = cython_spline.a\n",
    "cython_b = cython_spline.b\n",
    "cython_c = cython_spline.c\n",
    "cython_d = cython_spline.d\n",
    "# print(max_abs_diff(a, np.array(cython_spline.a)))\n",
    "# print(max_abs_diff(b, np.array(cython_spline.b)))\n",
    "# print(max_abs_diff(c, np.array(cython_spline.c)))\n",
    "# print(max_abs_diff(d, np.array(cython_spline.d)))\n"
   ]
  },
  {
   "cell_type": "code",
   "execution_count": 19,
   "id": "5da84940",
   "metadata": {},
   "outputs": [
    {
     "name": "stdout",
     "output_type": "stream",
     "text": [
      "0.0\n",
      "1.4488698797559414\n",
      "1.3322676295501878e-15\n",
      "5.329070518200751e-15\n"
     ]
    }
   ],
   "source": [
    "print(max_abs_diff(scipy_a, numba_a))\n",
    "print(max_abs_diff(scipy_b, numba_b))\n",
    "print(max_abs_diff(scipy_c, numba_c))\n",
    "print(max_abs_diff(scipy_d, numba_d))"
   ]
  },
  {
   "cell_type": "code",
   "execution_count": 16,
   "id": "b6a8b4ce",
   "metadata": {},
   "outputs": [],
   "source": [
    "from cinterpolate import tri_diag_solve\n",
    "from new_interp import tri_diag_solve as tdsnb"
   ]
  },
  {
   "cell_type": "markdown",
   "id": "1e25ade3",
   "metadata": {},
   "source": []
  },
  {
   "cell_type": "code",
   "execution_count": 19,
   "id": "7f2be8bb",
   "metadata": {},
   "outputs": [
    {
     "data": {
      "text/plain": [
       "0.0"
      ]
     },
     "execution_count": 19,
     "metadata": {},
     "output_type": "execute_result"
    }
   ],
   "source": [
    "N = 100000000 \n",
    "f1 = np.random.uniform(size=N)\n",
    "f2 = np.random.uniform(size=N)\n",
    "f3 = np.random.uniform(size=N)\n",
    "f4 = np.random.uniform(size=N)\n",
    "\n",
    "max_rel_diff(tri_diag_solve(f1, f2, f3, f4), tdsnb(f1, f2, f3, f4))"
   ]
  },
  {
   "cell_type": "code",
   "execution_count": 8,
   "id": "3c7b069f",
   "metadata": {},
   "outputs": [
    {
     "name": "stdout",
     "output_type": "stream",
     "text": [
      "4.5 µs ± 70.6 ns per loop (mean ± std. dev. of 7 runs, 100,000 loops each)\n",
      "2.7 µs ± 32.8 ns per loop (mean ± std. dev. of 7 runs, 100,000 loops each)\n",
      "3.23 µs ± 250 ns per loop (mean ± std. dev. of 7 runs, 100,000 loops each)\n",
      "15.3 µs ± 113 ns per loop (mean ± std. dev. of 7 runs, 100,000 loops each)\n"
     ]
    }
   ],
   "source": [
    "z = np.random.uniform(low=X.min(), high=X.max())\n",
    "w = np.array([z])\n",
    "\n",
    "%timeit scipy_spline(z)\n",
    "%timeit numba_spline_old.eval(z)\n",
    "%timeit numba_spline_new(w)\n",
    "%timeit cython_spline(w)\n"
   ]
  },
  {
   "cell_type": "code",
   "execution_count": 11,
   "id": "178efed2",
   "metadata": {},
   "outputs": [
    {
     "data": {
      "text/plain": [
       "0.002568664176321869"
      ]
     },
     "execution_count": 11,
     "metadata": {},
     "output_type": "execute_result"
    }
   ],
   "source": [
    "test_array = np.random.uniform(low=X.min(), high=X.max(), size=100)\n",
    "\n",
    "rel_diff = (scipy_spline(test_array) - cython_spline(test_array)) / scipy_spline(test_array)\n",
    "np.max(np.abs(rel_diff))\n"
   ]
  },
  {
   "cell_type": "code",
   "execution_count": 12,
   "id": "58090e1a",
   "metadata": {},
   "outputs": [
    {
     "name": "stdout",
     "output_type": "stream",
     "text": [
      "8.24 µs ± 328 ns per loop (mean ± std. dev. of 7 runs, 100,000 loops each)\n",
      "37.9 µs ± 2.85 µs per loop (mean ± std. dev. of 7 runs, 10,000 loops each)\n"
     ]
    }
   ],
   "source": [
    "%timeit scipy_spline(test_array)\n",
    "%timeit cython_spline(test_array)"
   ]
  },
  {
   "cell_type": "code",
   "execution_count": 16,
   "id": "23e1e07c",
   "metadata": {},
   "outputs": [
    {
     "data": {
      "text/plain": [
       "array([-390.18816831,   89.49955701,   13.87803287,  -51.37324011,\n",
       "        -48.50873385,   17.01519089,  -11.75360343,   -9.24302563,\n",
       "          7.78560907,    3.11868167,   -9.68744385,   25.11615695,\n",
       "        -42.00549626,  -47.42376289,  106.44586247, -306.7063883 ,\n",
       "        241.12078653,   40.41153019, -529.84235886,  223.64052591,\n",
       "       -140.43678171,  141.60512694, -296.7066927 , -384.92846661,\n",
       "        128.97161665,  -40.57557286,  -18.14729272,   26.87898103,\n",
       "        -23.25835722,   10.60151416,   23.30922972,  -55.75710561,\n",
       "        -70.53698622,   61.15513973])"
      ]
     },
     "execution_count": 16,
     "metadata": {},
     "output_type": "execute_result"
    }
   ],
   "source": [
    "np.array(cython_spline.b)"
   ]
  },
  {
   "cell_type": "code",
   "execution_count": 14,
   "id": "161f51b5",
   "metadata": {},
   "outputs": [
    {
     "data": {
      "text/plain": [
       "array([0.78045858, 0.17788129, 0.36413759, 0.8992841 , 0.84526243,\n",
       "       0.20856463, 0.28241681, 0.40900933, 0.28936396, 0.67663465,\n",
       "       0.81049792, 0.9359569 , 0.06079716, 0.63763808, 0.4984415 ,\n",
       "       0.6598545 , 0.72367369, 0.48009277, 0.83566315, 0.07713948,\n",
       "       0.90681428, 0.7396249 , 0.50390262, 0.91379776, 0.38756481,\n",
       "       0.08320292, 0.96791747, 0.10231251, 0.66746931, 0.6864403 ,\n",
       "       0.07419727, 0.11515538, 0.9316228 , 0.28327665, 0.86859014])"
      ]
     },
     "execution_count": 14,
     "metadata": {},
     "output_type": "execute_result"
    }
   ],
   "source": [
    "Y"
   ]
  },
  {
   "cell_type": "code",
   "execution_count": 1,
   "id": "45f3eb18",
   "metadata": {},
   "outputs": [],
   "source": [
    "from cinterpolate import spline_params\n",
    "import numpy as np\n",
    "import numba as nb"
   ]
  },
  {
   "cell_type": "code",
   "execution_count": 4,
   "id": "91746d4a",
   "metadata": {},
   "outputs": [],
   "source": [
    "N = 100\n",
    "X = np.random.uniform(size=N)\n",
    "X.sort()\n",
    "Y = np.random.uniform(size=N)\n",
    "\n",
    "a = np.empty(N)\n",
    "b = np.empty(N)\n",
    "c = np.empty(N)\n",
    "d = np.empty(N)\n"
   ]
  },
  {
   "cell_type": "code",
   "execution_count": 6,
   "id": "958882d4",
   "metadata": {},
   "outputs": [
    {
     "name": "stdout",
     "output_type": "stream",
     "text": [
      "1.46 µs ± 34.5 ns per loop (mean ± std. dev. of 7 runs, 1,000,000 loops each)\n"
     ]
    }
   ],
   "source": [
    "%timeit spline_params(a, b, c, d, X, Y)"
   ]
  },
  {
   "cell_type": "code",
   "execution_count": 7,
   "id": "e4aa07fc",
   "metadata": {},
   "outputs": [],
   "source": [
    "@nb.njit()\n",
    "def calc_spline_params(x, y):\n",
    "    n = x.size\n",
    "    a = y\n",
    "\n",
    "    return a"
   ]
  },
  {
   "cell_type": "code",
   "execution_count": 9,
   "id": "5f03720b",
   "metadata": {},
   "outputs": [
    {
     "name": "stdout",
     "output_type": "stream",
     "text": [
      "640 ns ± 5.33 ns per loop (mean ± std. dev. of 7 runs, 1,000,000 loops each)\n"
     ]
    }
   ],
   "source": [
    "%timeit calc_spline_params(X, Y)"
   ]
  },
  {
   "cell_type": "code",
   "execution_count": 1,
   "id": "02c72aea",
   "metadata": {},
   "outputs": [
    {
     "name": "stderr",
     "output_type": "stream",
     "text": [
      "/Users/deyanmihaylov/Documents/Work/python310/lib/python3.10/site-packages/scipy/__init__.py:146: UserWarning: A NumPy version >=1.16.5 and <1.23.0 is required for this version of SciPy (detected version 1.26.4\n",
      "  warnings.warn(f\"A NumPy version >={np_minversion} and <{np_maxversion}\"\n"
     ]
    }
   ],
   "source": [
    "import numba as nb\n",
    "import numpy as np"
   ]
  },
  {
   "cell_type": "code",
   "execution_count": 2,
   "id": "a3b6df9e",
   "metadata": {},
   "outputs": [],
   "source": [
    "@nb.njit(cache=True, inline = 'always')\n",
    "def TDMA(a, b, c, d):\n",
    "    n = len(d)\n",
    "    w = np.zeros(n-1, float)\n",
    "    g = np.zeros(n, float)\n",
    "    p = np.zeros(n, float)\n",
    "    \n",
    "    w[0] = c[0]/b[0]\n",
    "    g[0] = d[0]/b[0]\n",
    "\n",
    "    for i in range(1,n-1):\n",
    "        w[i] = c[i]/(b[i] - a[i-1]*w[i-1])\n",
    "    for i in range(1,n):\n",
    "        g[i] = (d[i] - a[i-1]*g[i-1])/(b[i] - a[i-1]*w[i-1])\n",
    "    p[n-1] = g[n-1]\n",
    "    for i in range(n-1,0,-1):\n",
    "        p[i-1] = g[i-1] - w[i-1]*p[i]\n",
    "    return p\n",
    "\n",
    "def TDMAnew(a, b, c, x):\n",
    "    n = x.size\n",
    "\n",
    "    c[0] = c[0] / b[0]\n",
    "    x[0] = x[0] / b[0]\n",
    "\n",
    "    for i in range(1, n):\n",
    "        if i < n-1:\n",
    "            c[i] = c[i] / (b[i] - a[i-1] * c[i-1])\n",
    "        \n",
    "        x[i] = (x[i] - a[i-1] * x[i-1]) / (b[i] - a[i-1] * c[i-1])\n",
    "\n",
    "    for i in range(n-2, -1, -1):\n",
    "        x[i] -= c[i] * x[i + 1]\n",
    "\n",
    "def method2(x, y):\n",
    "    n = x.size\n",
    "    mu = np.zeros(n-1)\n",
    "    ell = np.zeros(n-1)\n",
    "    d = np.zeros(n)\n",
    "\n",
    "    h = np.diff(x)\n",
    "\n",
    "    for i in range(0, n-2):\n",
    "        mu[i] = h[i] / (h[i] + h[i+1])\n",
    "        ell[i+1] = h[i+1] / (h[i] + h[i+1])\n",
    "        d[i+1] = 6 * (\n",
    "            (y[i+2] - y[i+1]) / (h[i+1] * (x[i+2] - x[i]))\n",
    "            - (y[i+1] - y[i]) / (h[i] * (x[i+2] - x[i]))\n",
    "        )\n",
    "\n",
    "    diag = 2 * np.ones(n)\n",
    "\n",
    "    # ell[0] = 2 * (2 * h[0] + h[1]) / (h[0] - h[1])\n",
    "    # mu[n-2] = 2 * (2 * h[n-2] + h[n-3]) / (h[n-2] - h[n-3])\n",
    "\n",
    "    # d[0] = 12 * (\n",
    "    #     ((y[2] - y[1]) * h[0] / h[1] - y[1] + y[0]) / (h[0] * h[0] - h[1] * h[1])\n",
    "    # )\n",
    "    # d[n-1] = 12 * (y[n-1] - y[n-2] - (y[n-2] - y[n-3]) * h[n-2] / h[n-3]) / (h[n-2] * h[n-2] - h[n-3] * h[n-3])\n",
    "\n",
    "    mu[0] = 0\n",
    "    diag[1] = 2 + h[0] / h[1]\n",
    "    ell[1] = 1 - h[0] / h[1]\n",
    "\n",
    "    mu[n-3] = 1 - h[-1] / h[-2]\n",
    "    ell[n-2] = 0\n",
    "    diag[n-2] = 2 + h[-1] / h[-2]\n",
    "    \n",
    "    print(mu)\n",
    "    print(ell)\n",
    "    print(d)\n",
    "    M = TDMA(mu[1:-1], diag[1:-1], ell[1:-1], d[1:-1])\n",
    "    print(M)\n",
    "    M0 = ((h[0] + h[1]) * M[0] - h[0] * M[1]) / h[1]\n",
    "    Mn = ((h[-2] + h[-1]) * M[-1] - h[-1] * M[-2]) / h[-2]\n",
    "\n",
    "    M = np.concatenate(([M0], M, [Mn]))\n",
    "\n",
    "    a = np.diff(M) / (6 * h)\n",
    "    b = M[:-1] / 2\n",
    "    c = np.diff(y) / h - M[1:] * h / 6 - M[:-1] * h / 3\n",
    "    d = y[:-1]\n",
    "\n",
    "    return a, b, c, d\n",
    "\n",
    "def solve_nearly_tridiagonal_old(\n",
    "    a, c, x, ur, ll,\n",
    "):\n",
    "    n = x.size\n",
    "    r = np.zeros(n)\n",
    "    c[0] = c[0] / 2\n",
    "    r[0] = ur / 2\n",
    "    x[0] = x[0] / 2\n",
    "    \n",
    "    for i in range(1, n-2):\n",
    "        c[i] = c[i] / (2 - a[i-1] * c[i-1])\n",
    "        r[i] = - a[i-1] * r[i-1] / (2 - a[i-1] * c[i-1])\n",
    "        x[i] = (x[i] - a[i-1] * x[i-1]) / (2 - a[i-1] * c[i-1])\n",
    "\n",
    "    r[n-2] = (c[n-2] - a[n-3] * r[n-3]) / (2 - a[n-3] * c[n-3])\n",
    "    x[n-2] = (x[n-2] - a[n-3] * x[n-3]) / (2 - a[n-3] * c[n-3])\n",
    "    \n",
    "    for i in range(n-3, -1, -1):\n",
    "        r[i] -= c[i] * r[i+1]\n",
    "        x[i] -= c[i] * x[i+1]\n",
    "\n",
    "    x[n-1] = (x[n-1] - a[n-2] * x[n-2] - ll * x[0]) / (2 - a[n-2] * r[n-2] - ll * r[0])\n",
    "\n",
    "    for i in range(n-2, -1, -1):\n",
    "        x[i] -= r[i] * x[n-1]\n",
    "\n",
    "    return x\n",
    "\n",
    "def solve_nearly_tridiagonal(\n",
    "    a, c, x\n",
    "):\n",
    "    n = x.size\n",
    "\n",
    "    a[0] = a[0] / 2\n",
    "    c[0] = c[0] / 2\n",
    "    x[0] = x[0] / 2\n",
    "    \n",
    "    for i in range(1, n-2):\n",
    "        c[i] = c[i] / (2 - a[i] * c[i-1])\n",
    "        x[i] = (x[i] - a[i] * x[i-1]) / (2 - a[i] * c[i-1])\n",
    "        a[i] = - a[i] * a[i-1] / (2 - a[i] * c[i-1])\n",
    "\n",
    "    x[n-2] = (x[n-2] - a[n-2] * x[n-3]) / (2 - a[n-2] * c[n-3])\n",
    "    a[n-2] = (c[n-2] - a[n-2] * a[n-3]) / (2 - a[n-2] * c[n-3])\n",
    "    \n",
    "    for i in range(n-3, -1, -1):\n",
    "        x[i] -= c[i] * x[i+1]\n",
    "        a[i] -= c[i] * a[i+1]\n",
    "\n",
    "    x[n-1] = (x[n-1] - a[n-1] * x[n-2] - c[n-1] * x[0]) / (2 - a[n-1] * a[n-2] - c[n-1] * a[0])\n",
    "\n",
    "    for i in range(n-2, -1, -1):\n",
    "        x[i] -= a[i] * x[n-1]\n",
    "\n",
    "    return x\n",
    "\n",
    "def period(x, y):\n",
    "    n = x.size\n",
    "    mu = np.zeros(n-1)\n",
    "    ell = np.zeros(n-1)\n",
    "    d = np.zeros(n)\n",
    "\n",
    "    h = np.diff(x)\n",
    "\n",
    "    for i in range(0, n-2):\n",
    "        mu[i] = h[i] / (h[i] + h[i+1])\n",
    "        ell[i+1] = h[i+1] / (h[i] + h[i+1])\n",
    "        d[i+1] = 6 * (\n",
    "            (y[i+2] - y[i+1]) / (h[i+1] * (x[i+2] - x[i]))\n",
    "            - (y[i+1] - y[i]) / (h[i] * (x[i+2] - x[i]))\n",
    "        )\n",
    "\n",
    "    diag = 2 * np.ones(n)\n",
    "    A = np.zeros((n, n))\n",
    "\n",
    "    for i in range(n):\n",
    "        A[i, i] = diag[i]\n",
    "        if i > 0:\n",
    "            A[i, i-1] = mu[i-1]\n",
    "        if i < n-1:\n",
    "            A[i, i+1] = ell[i]\n",
    "\n",
    "    A[0, 1] = h[0] / (h[0] + h[-1])\n",
    "    A[0, n-2] = h[-1] / (h[0] + h[-1])\n",
    "    A[n-2, 0] = h[-1] / (h[-2] + h[-1])\n",
    "\n",
    "    ell[0] = h[0] / (h[0] + h[-1])\n",
    "    ur = h[-1] / (h[0] + h[-1])\n",
    "    ll = h[-1] / (h[-2] + h[-1])\n",
    "    \n",
    "    d[0] = 6 * (\n",
    "        (y[1] - y[0]) / (h[0] * (h[0] + h[-1]))\n",
    "        - (y[-1] - y[-2]) / (h[-1] * (h[0] + h[-1]))\n",
    "    )\n",
    "    P = A[:-1, :-1]\n",
    "    q = d[:-1]\n",
    "    M = np.linalg.solve(A[:-1, :-1], d[:-1])\n",
    "    print(M)\n",
    "    M = np.append(M, M[0])\n",
    "\n",
    "    return P, q\n",
    "    a = np.diff(M) / (6 * h)\n",
    "    b = M[:-1] / 2\n",
    "    c = np.diff(y) / h - M[1:] * h / 6 - M[:-1] * h / 3\n",
    "    d = y[:-1]\n",
    "\n",
    "    return a, b, c, d\n",
    "\n",
    "def period_new(x, y):\n",
    "    n = x.size\n",
    "    mu = np.zeros(n-1)\n",
    "    ell = np.zeros(n-1)\n",
    "    d = np.zeros(n-1)\n",
    "\n",
    "    h = np.diff(x)\n",
    "\n",
    "    for i in range(0, n-2):\n",
    "        mu[i+1] = h[i] / (h[i] + h[i+1])\n",
    "        ell[i+1] = h[i+1] / (h[i] + h[i+1])\n",
    "        d[i+1] = 6 * (\n",
    "            (y[i+2] - y[i+1]) / (h[i+1] * (x[i+2] - x[i]))\n",
    "            - (y[i+1] - y[i]) / (h[i] * (x[i+2] - x[i]))\n",
    "        )\n",
    "\n",
    "    ell[0] = h[0] / (h[0] + h[n-2])\n",
    "    mu[0] = h[n-2] / (h[0] + h[n-2])\n",
    "    ell[n-2] = h[n-2] / (h[n-3] + h[n-2])\n",
    "    \n",
    "    d[0] = 6 * (\n",
    "        (y[1] - y[0]) / (h[0] * (h[0] + h[n-2]))\n",
    "        - (y[n-1] - y[n-2]) / (h[n-2] * (h[0] + h[n-2]))\n",
    "    )\n",
    "    \n",
    "    M = solve_nearly_tridiagonal(mu, ell, d)\n",
    "    M = np.append(M, M[0])\n",
    "\n",
    "    a = np.diff(M) / (6 * h)\n",
    "    b = M[:-1] / 2\n",
    "    c = np.diff(y) / h - M[1:] * h / 6 - M[:-1] * h / 3\n",
    "    d = y[:-1]\n",
    "\n",
    "    return a, b, c, d"
   ]
  },
  {
   "cell_type": "code",
   "execution_count": 3,
   "id": "3c2c9430",
   "metadata": {},
   "outputs": [],
   "source": [
    "X = np.array([0., 1., 2., 3.])\n",
    "Y = np.array([0., 0.5, 2., 0.])"
   ]
  },
  {
   "cell_type": "code",
   "execution_count": 4,
   "id": "9cc45a00",
   "metadata": {},
   "outputs": [],
   "source": [
    "import scipy.interpolate as spip\n",
    "\n",
    "# sp_spline = spip.CubicSpline(X, Y, bc_type=((1, 0.2), (1, -1)))\n",
    "# sp_spline = spip.CubicSpline(X, Y, bc_type=((2, -0.3), (2, 3.3)))\n",
    "sp_spline = spip.CubicSpline(X, Y, bc_type=\"periodic\")"
   ]
  },
  {
   "cell_type": "code",
   "execution_count": 5,
   "id": "b434ba64",
   "metadata": {},
   "outputs": [
    {
     "data": {
      "text/plain": [
       "array([[-0.5, -1.5,  2. ],\n",
       "       [ 2.5,  1. , -3.5],\n",
       "       [-1.5,  2. , -0.5],\n",
       "       [ 0. ,  0.5,  2. ]])"
      ]
     },
     "execution_count": 5,
     "metadata": {},
     "output_type": "execute_result"
    }
   ],
   "source": [
    "sp_spline.c"
   ]
  },
  {
   "cell_type": "code",
   "execution_count": 6,
   "id": "64b4493f",
   "metadata": {},
   "outputs": [],
   "source": [
    "from cinterpolate import CubicSpline as cs"
   ]
  },
  {
   "cell_type": "code",
   "execution_count": 7,
   "id": "b65ec78f",
   "metadata": {},
   "outputs": [
    {
     "name": "stdout",
     "output_type": "stream",
     "text": [
      "[-0.5 -1.5  2. ]\n",
      "[ 2.5  1.  -3.5]\n",
      "[-1.5  2.  -0.5]\n",
      "[0.  0.5 2. ]\n"
     ]
    }
   ],
   "source": [
    "c_cs = cs(X, Y, 'periodic')\n",
    "print(np.array(c_cs.a))\n",
    "print(np.array(c_cs.b))\n",
    "print(np.array(c_cs.c))\n",
    "print(np.array(c_cs.d))\n"
   ]
  },
  {
   "cell_type": "code",
   "execution_count": 8,
   "id": "46f348dd",
   "metadata": {},
   "outputs": [
    {
     "data": {
      "text/plain": [
       "True"
      ]
     },
     "execution_count": 8,
     "metadata": {},
     "output_type": "execute_result"
    }
   ],
   "source": [
    "np.allclose(sp_spline.c, np.vstack((c_cs.a,c_cs.b,c_cs.c,c_cs.d)))"
   ]
  },
  {
   "cell_type": "code",
   "execution_count": 16,
   "id": "596c2b87",
   "metadata": {},
   "outputs": [
    {
     "name": "stdout",
     "output_type": "stream",
     "text": [
      "4.63 µs ± 896 ns per loop (mean ± std. dev. of 7 runs, 100,000 loops each)\n"
     ]
    }
   ],
   "source": [
    "%timeit -n 100000 cs(X, Y, 'not-a-knot')"
   ]
  },
  {
   "cell_type": "code",
   "execution_count": 17,
   "id": "e7e276fe",
   "metadata": {},
   "outputs": [
    {
     "name": "stdout",
     "output_type": "stream",
     "text": [
      "127 µs ± 3.02 µs per loop (mean ± std. dev. of 7 runs, 10,000 loops each)\n"
     ]
    }
   ],
   "source": [
    "%timeit sp_spline = spip.CubicSpline(X, Y, bc_type=\"not-a-knot\")"
   ]
  },
  {
   "cell_type": "code",
   "execution_count": 74,
   "id": "1f5fe5ae",
   "metadata": {},
   "outputs": [],
   "source": [
    "N = 10\n",
    "\n",
    "a = np.random.uniform(size=N-1)\n",
    "b = 2 * np.ones(N)\n",
    "c = np.random.uniform(size=N-1)\n",
    "d = np.random.uniform(size=N-1)"
   ]
  },
  {
   "cell_type": "code",
   "execution_count": 75,
   "id": "beb1afe8",
   "metadata": {},
   "outputs": [
    {
     "data": {
      "text/plain": [
       "True"
      ]
     },
     "execution_count": 75,
     "metadata": {},
     "output_type": "execute_result"
    }
   ],
   "source": [
    "y = TDMA(a, b, c, d)\n",
    "TDMAnew(a, b, c, d)\n",
    "np.allclose(d, y)"
   ]
  },
  {
   "cell_type": "code",
   "execution_count": 76,
   "id": "deff8e10",
   "metadata": {},
   "outputs": [
    {
     "data": {
      "text/plain": [
       "array([ 0.11147846,  0.03772752,  0.18435356, -0.02627814, -0.01205115,\n",
       "        0.07057727,  0.06056884,  0.18243457, -0.06709042])"
      ]
     },
     "execution_count": 76,
     "metadata": {},
     "output_type": "execute_result"
    }
   ],
   "source": [
    "TDMA(a, b, c, d)"
   ]
  },
  {
   "cell_type": "code",
   "execution_count": 77,
   "id": "0e25d080",
   "metadata": {},
   "outputs": [
    {
     "data": {
      "text/plain": [
       "array([ 0.11147846,  0.03772752,  0.18435356, -0.02627814, -0.01205115,\n",
       "        0.07057727,  0.06056884,  0.18243457, -0.06709042])"
      ]
     },
     "execution_count": 77,
     "metadata": {},
     "output_type": "execute_result"
    }
   ],
   "source": [
    "TDMAnew(a, b, c, d)\n",
    "d"
   ]
  },
  {
   "cell_type": "code",
   "execution_count": 14,
   "id": "3b62e656",
   "metadata": {},
   "outputs": [],
   "source": [
    "vec = np.random.uniform(size=100)"
   ]
  },
  {
   "cell_type": "code",
   "execution_count": 15,
   "id": "151f0d2d",
   "metadata": {},
   "outputs": [
    {
     "name": "stdout",
     "output_type": "stream",
     "text": [
      "170 ns ± 13.9 ns per loop (mean ± std. dev. of 7 runs, 1,000,000 loops each)\n"
     ]
    }
   ],
   "source": [
    "%timeit vec1 = vec[:-1]"
   ]
  },
  {
   "cell_type": "code",
   "execution_count": null,
   "id": "b5db43b0",
   "metadata": {},
   "outputs": [],
   "source": []
  }
 ],
 "metadata": {
  "kernelspec": {
   "display_name": "Python 3 (ipykernel)",
   "language": "python",
   "name": "python3"
  },
  "language_info": {
   "codemirror_mode": {
    "name": "ipython",
    "version": 3
   },
   "file_extension": ".py",
   "mimetype": "text/x-python",
   "name": "python",
   "nbconvert_exporter": "python",
   "pygments_lexer": "ipython3",
   "version": "3.10.4"
  }
 },
 "nbformat": 4,
 "nbformat_minor": 5
}
