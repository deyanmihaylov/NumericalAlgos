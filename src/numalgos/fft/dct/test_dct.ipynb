{
 "cells": [
  {
   "cell_type": "code",
   "execution_count": 1,
   "id": "d8fae07d",
   "metadata": {},
   "outputs": [],
   "source": [
    "%load_ext autoreload\n",
    "%autoreload 2"
   ]
  },
  {
   "cell_type": "code",
   "execution_count": 2,
   "id": "0ddfe598",
   "metadata": {},
   "outputs": [],
   "source": [
    "import numpy as np\n",
    "import numba as nb\n",
    "from scipy.fft import dct\n"
   ]
  },
  {
   "cell_type": "code",
   "execution_count": null,
   "id": "963dee07",
   "metadata": {},
   "outputs": [],
   "source": [
    "%timeit dct(x)"
   ]
  },
  {
   "cell_type": "code",
   "execution_count": 147,
   "id": "7ae431e6",
   "metadata": {},
   "outputs": [],
   "source": [
    "def dct1d(x):\n",
    "    n = x.size\n",
    "\n",
    "    y = np.zeros((n), dtype=np.float64)\n",
    "    ks = np.arange(0, n)\n",
    "\n",
    "    y = x[0] + (-1)**ks * x[n-1]\n",
    "    print(\"yo\", y[3])\n",
    "    for k in range(n):\n",
    "        # y[k] = x[0] + (-1)**k * x[n-1]\n",
    "        for i in range(1, n-1):\n",
    "            if k == 3: print(x[i] * np.cos(np.pi * k * i / (n - 1)))\n",
    "            y[k] += 2 * x[i] * np.cos(np.pi * k * i / (n - 1))\n",
    "        # y[k] = x[0] + (-1)**k * x[n-1] + 2 * np.sum(np.array([x[i] * np.cos(np.pi * k * i / (n - 1)) for i in range(1, n-1)]))\n",
    "        y[k] /= np.sqrt(2 * (n - 1))\n",
    "    return y"
   ]
  },
  {
   "cell_type": "code",
   "execution_count": 229,
   "id": "304ad62b",
   "metadata": {},
   "outputs": [],
   "source": [
    "@nb.jit(\n",
    "    nb.float64[:](nb.float64[:]),\n",
    "    nopython=True,\n",
    "    fastmath=True,\n",
    ")\n",
    "def dct1d_new(x):\n",
    "    n = x.size\n",
    "    n_is_odd = n%2\n",
    "    n_by_2 = n//2\n",
    "    cos_arr = np.zeros((n_by_2), dtype=np.float64)\n",
    "    pi_by_n = np.pi / (n-1)\n",
    "    for i in range(n_by_2): cos_arr[i] = np.cos(i * pi_by_n)\n",
    "    y = np.empty((n,), dtype=np.float64)\n",
    "    y[::2] = x[0] + x[n-1]\n",
    "    y[1::2] = x[0] - x[n-1]\n",
    "    y[0] += 2 * np.sum(x[1:-1])\n",
    "    y[-1] += 2 * (np.sum(x[2:-1:2]) - np.sum(x[1:-1:2]))\n",
    "    if n_is_odd:\n",
    "        y[n_by_2] += 2 * (np.sum(x[4:-1:4]) - np.sum(x[2:-1:4]))\n",
    "    for i in range(1, n-1):\n",
    "        if n_is_odd == 1 and i == n_by_2: continue\n",
    "        for j in range(1, n-1):\n",
    "            if n_is_odd == 1 and j == n_by_2 and i%2 == 1: continue\n",
    "            f = 1\n",
    "            cond1 = (i > n_by_2 - 1)\n",
    "            cond2 = (j > n_by_2 - 1)\n",
    "            if cond1 and cond2:\n",
    "                ix = n - i - 1\n",
    "                jx = n - j - 1\n",
    "                if n_is_odd == 0:\n",
    "                    if (i + j) % 2 == 0: f = -1\n",
    "                else:\n",
    "                    if (i + j) % 2 != 0: f = -1\n",
    "            else:\n",
    "                if cond1:\n",
    "                    ix = n - i - 1\n",
    "                    if j%2 != 0: f = -1\n",
    "                else:\n",
    "                    ix = i\n",
    "                if cond2:\n",
    "                    jx = n - j - 1\n",
    "                    if i%2 != 0: f = -1\n",
    "                else:\n",
    "                    jx = j\n",
    "            if jx > 1:\n",
    "                p, ix = np.divmod(ix * jx, n-1)\n",
    "                if p%2 != 0: f *= -1\n",
    "            if ix > n_by_2 - 1:\n",
    "                f *= -1\n",
    "                ix = n - ix - 1\n",
    "            # if i == 2: print(x[j] * f * cos_arr[ix], x[j], ix, cos_arr[ix])\n",
    "            if ix >= n_by_2: continue\n",
    "            y[i] += 2 * x[j] * f * cos_arr[ix]\n",
    "            # yy[i, j-1] = x[j] * np.cos(np.pi * i * j / (n-1))\n",
    "\n",
    "    y /= np.sqrt(2 * (n - 1))\n",
    "    return y\n"
   ]
  },
  {
   "cell_type": "code",
   "execution_count": 230,
   "id": "7b628905",
   "metadata": {},
   "outputs": [],
   "source": [
    "x = np.random.rand(15)\n"
   ]
  },
  {
   "cell_type": "code",
   "execution_count": 231,
   "id": "f4e00b93",
   "metadata": {},
   "outputs": [
    {
     "name": "stdout",
     "output_type": "stream",
     "text": [
      "True\n",
      "[ 2.87393709 -0.23354176  0.11598166  0.24582327 -0.03244129  0.05964392\n",
      " -0.27770637 -0.32363791 -0.30177845 -0.39728226 -0.12853325  0.16112869\n",
      "  0.35521376 -0.25871664 -0.2465312 ]\n"
     ]
    }
   ],
   "source": [
    "print(np.allclose(dct1d_new(x), dct(x, type=1, norm=\"ortho\", orthogonalize=False)))\n",
    "print(dct1d_new(x))\n",
    "# print(dct(x, type=1, norm=\"ortho\", orthogonalize=False))\n",
    "# print(dct1d(x))\n",
    "# print(dct1d_new(x) - dct(x, type=1, norm=\"ortho\", orthogonalize=False))\n"
   ]
  },
  {
   "cell_type": "code",
   "execution_count": 232,
   "id": "f1c4e212",
   "metadata": {},
   "outputs": [
    {
     "name": "stdout",
     "output_type": "stream",
     "text": [
      "2.26 µs ± 28.7 ns per loop (mean ± std. dev. of 7 runs, 100,000 loops each)\n",
      "7.38 µs ± 490 ns per loop (mean ± std. dev. of 7 runs, 100,000 loops each)\n"
     ]
    }
   ],
   "source": [
    "%timeit dct1d_new(x)\n",
    "%timeit dct(x, type=1, norm=\"ortho\", orthogonalize=False)\n"
   ]
  },
  {
   "cell_type": "code",
   "execution_count": null,
   "id": "62981b7c",
   "metadata": {},
   "outputs": [],
   "source": [
    "\"\"\"\n",
    "[[ 0.86916369  0.4149195   0.12194476  0.74677572]\n",
    " [ 0.7031682   0.12821718 -0.037683   -0.60415425]\n",
    " [ 0.26858635 -0.33567693 -0.09865538  0.23076639]\n",
    " [-0.26858635 -0.33567693  0.09865538  0.23076639]\n",
    " [-0.7031682   0.12821718  0.037683   -0.60415425]\n",
    " [-0.86916369  0.4149195  -0.12194476  0.74677572]]\n",
    "\"\"\""
   ]
  },
  {
   "cell_type": "code",
   "execution_count": 74,
   "id": "49d939f6",
   "metadata": {},
   "outputs": [
    {
     "name": "stdout",
     "output_type": "stream",
     "text": [
      "[[ 0.       0.       0.       0.       0.       0.       0.     ]\n",
      " [ 0.92388  0.70711  0.38268  0.      -0.38268 -0.70711 -0.92388]\n",
      " [ 0.70711 -0.      -0.70711 -1.      -0.70711 -0.       0.70711]\n",
      " [ 0.38268 -0.70711 -0.92388 -0.       0.92388  0.70711 -0.38268]\n",
      " [ 0.      -1.      -0.       1.      -0.      -1.       0.     ]\n",
      " [-0.38268 -0.70711  0.92388 -0.      -0.92388  0.70711  0.38268]\n",
      " [-0.70711 -0.       0.70711 -1.       0.70711 -0.      -0.70711]\n",
      " [-0.92388  0.70711 -0.38268  0.       0.38268 -0.70711  0.92388]\n",
      " [ 0.       0.       0.       1.       0.       0.       0.     ]]\n",
      "True\n"
     ]
    }
   ],
   "source": [
    "# xx = np.random.rand(9)\n",
    "xx = x.copy()\n",
    "z = np.zeros((xx.size, xx.size-2))\n",
    "n = xx.size\n",
    "for i in range(n):\n",
    "    for j in range(1, n-1):\n",
    "        z[i, j-1] = np.cos(np.pi * i * j / (n-1))\n",
    "\n",
    "# print(np.round(z, 5))\n",
    "\n",
    "zz = np.zeros((n, n-2))\n",
    "for i in range(1, n//2):\n",
    "    for j in range(1, i+1):\n",
    "        zz[i, j-1] = np.cos(np.pi * i * j / (n-1))\n",
    "\n",
    "zz[0, 0] = 1\n",
    "\n",
    "# print(zz)\n",
    "\n",
    "zzz = np.zeros((n, n-2))\n",
    "nby2 = n//2\n",
    "\n",
    "for i in range(1, n-1):\n",
    "    for j in range(1, n-1):\n",
    "        pref = 1\n",
    "        if i > nby2 - 1 and j > nby2 - 1:\n",
    "            ix = n - i - 1\n",
    "            jx = n - j - 1\n",
    "            if n % 2 == 0:\n",
    "                if (i + j) % 2 == 0: pref = -1\n",
    "            else:\n",
    "                if (i + j) % 2 != 0: pref = -1\n",
    "        else:\n",
    "            if i > nby2 - 1:\n",
    "                ix = n - i - 1\n",
    "                if j % 2 != 0: pref = -1\n",
    "            else:\n",
    "                ix = i\n",
    "            if j > nby2 - 1:\n",
    "                jx = n - j - 1\n",
    "                if i % 2 != 0: pref = -1\n",
    "            else:\n",
    "                jx = j\n",
    "        if jx > 1:\n",
    "            p, ix = np.divmod(ix * jx, n-1)\n",
    "            if p%2 != 0: pref *= -1\n",
    "        if ix > nby2 - 1:\n",
    "            pref *= -1\n",
    "            ix = n - ix - 1\n",
    "        \n",
    "        zzz[i, j-1] = pref * zz[ix, 0]\n",
    "        # print(i, j, ix)\n",
    "\n",
    "if n % 2 != 0:\n",
    "    if n > 2:\n",
    "        zzz[nby2, 1::4] = -1.\n",
    "        zzz[2::4, nby2-1] = -1.\n",
    "    if n > 4:\n",
    "        zzz[nby2, 3::4] = 1.\n",
    "        zzz[4::4, nby2-1] = 1.\n",
    "\n",
    "print(np.round(zzz, 5))\n",
    "\n",
    "# print(zzz[1:-1,:]-z[1:-1,:])\n",
    "print(np.allclose(zzz[1:-1,:], z[1:-1,:]))\n"
   ]
  },
  {
   "cell_type": "code",
   "execution_count": null,
   "id": "03bde211",
   "metadata": {},
   "outputs": [],
   "source": []
  }
 ],
 "metadata": {
  "kernelspec": {
   "display_name": "Python 3 (ipykernel)",
   "language": "python",
   "name": "python3"
  },
  "language_info": {
   "codemirror_mode": {
    "name": "ipython",
    "version": 3
   },
   "file_extension": ".py",
   "mimetype": "text/x-python",
   "name": "python",
   "nbconvert_exporter": "python",
   "pygments_lexer": "ipython3",
   "version": "3.10.4"
  }
 },
 "nbformat": 4,
 "nbformat_minor": 5
}
